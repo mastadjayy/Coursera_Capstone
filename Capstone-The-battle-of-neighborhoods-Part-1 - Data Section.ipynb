{
 "cells": [
  {
   "cell_type": "markdown",
   "metadata": {},
   "source": [
    "# Capstone Project\n",
    "## The Battle of the Neighborhoods Part 1"
   ]
  },
  {
   "cell_type": "markdown",
   "metadata": {},
   "source": [
    "## Table of contents\n",
    "* [Data Section]"
   ]
  },
  {
   "cell_type": "markdown",
   "metadata": {},
   "source": [
    "## Data Section"
   ]
  },
  {
   "cell_type": "markdown",
   "metadata": {},
   "source": [
    "For this project, we will need data about neighborhoods in each of these two cities. The data made available by the government of India on postal codes for all India will serve us well for our study. We will download the CSV provided under the following link https://data.gov.in/resources/all-india-pincode-directory-contact-details-along-latitude-and-longitude.\n",
    "\n",
    "In this study, we will download the CSV, read it into a pandas Dataframe and curate it to remove the data related to all other cities, towns, and places which are not **Bangalore or Hyderabad**, since we are only interested in comparing these two big cities of India.\n",
    "\n",
    "We will then clean up the unnecessary columns in the CSV, which is not relevant or useful for our current study. **Post office names (office name) will be used as the neighborhood names** in each of the regions such as **Bangalore or Hyderabad**.\n",
    "Neighborhood names with the same Pincode will be combined as a single row.\n",
    "\n",
    "Foursquare API will be used to find the longitude and latitude of each of the neighborhoods in both **Bangalore or Hyderabad**. This will form the dataset we will use for this study.\n"
   ]
  },
  {
   "cell_type": "code",
   "execution_count": null,
   "metadata": {},
   "outputs": [],
   "source": []
  }
 ],
 "metadata": {
  "language_info": {
   "codemirror_mode": {
    "name": "ipython",
    "version": 3
   },
   "file_extension": ".py",
   "mimetype": "text/x-python",
   "name": "python",
   "nbconvert_exporter": "python",
   "pygments_lexer": "ipython3",
   "version": 3
  },
  "orig_nbformat": 2
 },
 "nbformat": 4,
 "nbformat_minor": 2
}
